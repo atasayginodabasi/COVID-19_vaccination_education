{
  "nbformat": 4,
  "nbformat_minor": 5,
  "metadata": {
    "kernelspec": {
      "display_name": "Python 3",
      "language": "python",
      "name": "python3"
    },
    "language_info": {
      "codemirror_mode": {
        "name": "ipython",
        "version": 3
      },
      "file_extension": ".py",
      "mimetype": "text/x-python",
      "name": "python",
      "nbconvert_exporter": "python",
      "pygments_lexer": "ipython3",
      "version": "3.9.5"
    },
    "colab": {
      "name": "covid_19_vaccination.ipynb",
      "provenance": [],
      "include_colab_link": true
    }
  },
  "cells": [
    {
      "cell_type": "markdown",
      "metadata": {
        "id": "view-in-github",
        "colab_type": "text"
      },
      "source": [
        "<a href=\"https://colab.research.google.com/github/ayyucedemirbas/COVID-19_vaccination_education/blob/main/covid_19_vaccination.ipynb\" target=\"_parent\"><img src=\"https://colab.research.google.com/assets/colab-badge.svg\" alt=\"Open In Colab\"/></a>"
      ]
    },
    {
      "cell_type": "code",
      "metadata": {
        "id": "691dc6f2"
      },
      "source": [
        "import numpy as np\n",
        "import matplotlib.pyplot as plt\n",
        "import pandas as pd"
      ],
      "id": "691dc6f2",
      "execution_count": 1,
      "outputs": []
    },
    {
      "cell_type": "code",
      "metadata": {
        "id": "5rghp42B2Hya"
      },
      "source": [
        "import seaborn as sns"
      ],
      "id": "5rghp42B2Hya",
      "execution_count": 2,
      "outputs": []
    },
    {
      "cell_type": "code",
      "metadata": {
        "id": "c14f94e7"
      },
      "source": [
        "data = pd.read_csv(\"https://raw.githubusercontent.com/ayyucedemirbas/COVID-19_vaccination_education/main/covid19_vac_education.csv\")"
      ],
      "id": "c14f94e7",
      "execution_count": 3,
      "outputs": []
    },
    {
      "cell_type": "code",
      "metadata": {
        "id": "3c3ad09e",
        "colab": {
          "base_uri": "https://localhost:8080/",
          "height": 1000
        },
        "outputId": "b50910a6-a972-4d1b-f38a-7343babbeb79"
      },
      "source": [
        "data"
      ],
      "id": "3c3ad09e",
      "execution_count": 4,
      "outputs": [
        {
          "output_type": "execute_result",
          "data": {
            "text/html": [
              "<div>\n",
              "<style scoped>\n",
              "    .dataframe tbody tr th:only-of-type {\n",
              "        vertical-align: middle;\n",
              "    }\n",
              "\n",
              "    .dataframe tbody tr th {\n",
              "        vertical-align: top;\n",
              "    }\n",
              "\n",
              "    .dataframe thead th {\n",
              "        text-align: right;\n",
              "    }\n",
              "</style>\n",
              "<table border=\"1\" class=\"dataframe\">\n",
              "  <thead>\n",
              "    <tr style=\"text-align: right;\">\n",
              "      <th></th>\n",
              "      <th>Cities</th>\n",
              "      <th>College_graduate</th>\n",
              "      <th>High_school_graduate</th>\n",
              "      <th>Less_than_high_school</th>\n",
              "      <th>COVID-19_Vaccination</th>\n",
              "      <th>Unvaccinated</th>\n",
              "    </tr>\n",
              "  </thead>\n",
              "  <tbody>\n",
              "    <tr>\n",
              "      <th>0</th>\n",
              "      <td>Istanbul</td>\n",
              "      <td>19</td>\n",
              "      <td>69</td>\n",
              "      <td>12</td>\n",
              "      <td>52.53</td>\n",
              "      <td>47.47</td>\n",
              "    </tr>\n",
              "    <tr>\n",
              "      <th>1</th>\n",
              "      <td>Ankara</td>\n",
              "      <td>24</td>\n",
              "      <td>66</td>\n",
              "      <td>11</td>\n",
              "      <td>58.98</td>\n",
              "      <td>36.99</td>\n",
              "    </tr>\n",
              "    <tr>\n",
              "      <th>2</th>\n",
              "      <td>Izmir</td>\n",
              "      <td>19</td>\n",
              "      <td>70</td>\n",
              "      <td>11</td>\n",
              "      <td>61.84</td>\n",
              "      <td>38.16</td>\n",
              "    </tr>\n",
              "    <tr>\n",
              "      <th>3</th>\n",
              "      <td>Canakkale</td>\n",
              "      <td>16</td>\n",
              "      <td>73</td>\n",
              "      <td>9</td>\n",
              "      <td>69.42</td>\n",
              "      <td>30.58</td>\n",
              "    </tr>\n",
              "    <tr>\n",
              "      <th>4</th>\n",
              "      <td>Edirne</td>\n",
              "      <td>15</td>\n",
              "      <td>74</td>\n",
              "      <td>10</td>\n",
              "      <td>68.83</td>\n",
              "      <td>31.17</td>\n",
              "    </tr>\n",
              "    <tr>\n",
              "      <th>5</th>\n",
              "      <td>Kirklareli</td>\n",
              "      <td>15</td>\n",
              "      <td>77</td>\n",
              "      <td>10</td>\n",
              "      <td>68.23</td>\n",
              "      <td>31.77</td>\n",
              "    </tr>\n",
              "    <tr>\n",
              "      <th>6</th>\n",
              "      <td>Mugla</td>\n",
              "      <td>17</td>\n",
              "      <td>71</td>\n",
              "      <td>10</td>\n",
              "      <td>73.08</td>\n",
              "      <td>26.92</td>\n",
              "    </tr>\n",
              "    <tr>\n",
              "      <th>7</th>\n",
              "      <td>Balikesir</td>\n",
              "      <td>15</td>\n",
              "      <td>73</td>\n",
              "      <td>11</td>\n",
              "      <td>66.72</td>\n",
              "      <td>33.28</td>\n",
              "    </tr>\n",
              "    <tr>\n",
              "      <th>8</th>\n",
              "      <td>Van</td>\n",
              "      <td>9</td>\n",
              "      <td>65</td>\n",
              "      <td>25</td>\n",
              "      <td>38.04</td>\n",
              "      <td>61.96</td>\n",
              "    </tr>\n",
              "    <tr>\n",
              "      <th>9</th>\n",
              "      <td>Siirt</td>\n",
              "      <td>10</td>\n",
              "      <td>66</td>\n",
              "      <td>25</td>\n",
              "      <td>35.03</td>\n",
              "      <td>64.97</td>\n",
              "    </tr>\n",
              "    <tr>\n",
              "      <th>10</th>\n",
              "      <td>Sanliurfa</td>\n",
              "      <td>8</td>\n",
              "      <td>64</td>\n",
              "      <td>29</td>\n",
              "      <td>26.19</td>\n",
              "      <td>73.81</td>\n",
              "    </tr>\n",
              "    <tr>\n",
              "      <th>11</th>\n",
              "      <td>Agri</td>\n",
              "      <td>7</td>\n",
              "      <td>65</td>\n",
              "      <td>28</td>\n",
              "      <td>34.61</td>\n",
              "      <td>65.39</td>\n",
              "    </tr>\n",
              "    <tr>\n",
              "      <th>12</th>\n",
              "      <td>Diyarbakir</td>\n",
              "      <td>11</td>\n",
              "      <td>65</td>\n",
              "      <td>24</td>\n",
              "      <td>32.23</td>\n",
              "      <td>67.77</td>\n",
              "    </tr>\n",
              "    <tr>\n",
              "      <th>13</th>\n",
              "      <td>Mardin</td>\n",
              "      <td>10</td>\n",
              "      <td>65</td>\n",
              "      <td>24</td>\n",
              "      <td>29.43</td>\n",
              "      <td>70.57</td>\n",
              "    </tr>\n",
              "    <tr>\n",
              "      <th>14</th>\n",
              "      <td>Bingol</td>\n",
              "      <td>12</td>\n",
              "      <td>70</td>\n",
              "      <td>20</td>\n",
              "      <td>38.01</td>\n",
              "      <td>61.99</td>\n",
              "    </tr>\n",
              "    <tr>\n",
              "      <th>15</th>\n",
              "      <td>Batman</td>\n",
              "      <td>11</td>\n",
              "      <td>69</td>\n",
              "      <td>22</td>\n",
              "      <td>33.12</td>\n",
              "      <td>66.88</td>\n",
              "    </tr>\n",
              "    <tr>\n",
              "      <th>16</th>\n",
              "      <td>Tekirdag</td>\n",
              "      <td>15</td>\n",
              "      <td>71</td>\n",
              "      <td>11</td>\n",
              "      <td>60.02</td>\n",
              "      <td>39.98</td>\n",
              "    </tr>\n",
              "    <tr>\n",
              "      <th>17</th>\n",
              "      <td>Sakarya</td>\n",
              "      <td>13</td>\n",
              "      <td>75</td>\n",
              "      <td>12</td>\n",
              "      <td>50.11</td>\n",
              "      <td>49.88</td>\n",
              "    </tr>\n",
              "    <tr>\n",
              "      <th>18</th>\n",
              "      <td>Düzce</td>\n",
              "      <td>13</td>\n",
              "      <td>74</td>\n",
              "      <td>13</td>\n",
              "      <td>52.58</td>\n",
              "      <td>47.42</td>\n",
              "    </tr>\n",
              "    <tr>\n",
              "      <th>19</th>\n",
              "      <td>Bilecik</td>\n",
              "      <td>14</td>\n",
              "      <td>76</td>\n",
              "      <td>9</td>\n",
              "      <td>61.20</td>\n",
              "      <td>38.80</td>\n",
              "    </tr>\n",
              "    <tr>\n",
              "      <th>20</th>\n",
              "      <td>Kocaeli</td>\n",
              "      <td>16</td>\n",
              "      <td>72</td>\n",
              "      <td>12</td>\n",
              "      <td>51.82</td>\n",
              "      <td>48.18</td>\n",
              "    </tr>\n",
              "    <tr>\n",
              "      <th>21</th>\n",
              "      <td>Yalova</td>\n",
              "      <td>18</td>\n",
              "      <td>71</td>\n",
              "      <td>11</td>\n",
              "      <td>60.69</td>\n",
              "      <td>39.31</td>\n",
              "    </tr>\n",
              "    <tr>\n",
              "      <th>22</th>\n",
              "      <td>Bursa</td>\n",
              "      <td>15</td>\n",
              "      <td>73</td>\n",
              "      <td>12</td>\n",
              "      <td>53.50</td>\n",
              "      <td>46.51</td>\n",
              "    </tr>\n",
              "    <tr>\n",
              "      <th>23</th>\n",
              "      <td>Manisa</td>\n",
              "      <td>13</td>\n",
              "      <td>75</td>\n",
              "      <td>12</td>\n",
              "      <td>57.97</td>\n",
              "      <td>42.03</td>\n",
              "    </tr>\n",
              "    <tr>\n",
              "      <th>24</th>\n",
              "      <td>Aydin</td>\n",
              "      <td>15</td>\n",
              "      <td>72</td>\n",
              "      <td>13</td>\n",
              "      <td>62.56</td>\n",
              "      <td>37.44</td>\n",
              "    </tr>\n",
              "    <tr>\n",
              "      <th>25</th>\n",
              "      <td>Denizli</td>\n",
              "      <td>14</td>\n",
              "      <td>73</td>\n",
              "      <td>11</td>\n",
              "      <td>59.10</td>\n",
              "      <td>40.90</td>\n",
              "    </tr>\n",
              "    <tr>\n",
              "      <th>26</th>\n",
              "      <td>Mus</td>\n",
              "      <td>8</td>\n",
              "      <td>67</td>\n",
              "      <td>25</td>\n",
              "      <td>31.27</td>\n",
              "      <td>68.73</td>\n",
              "    </tr>\n",
              "    <tr>\n",
              "      <th>27</th>\n",
              "      <td>Hakkari</td>\n",
              "      <td>10</td>\n",
              "      <td>70</td>\n",
              "      <td>18</td>\n",
              "      <td>51.32</td>\n",
              "      <td>48.67</td>\n",
              "    </tr>\n",
              "    <tr>\n",
              "      <th>28</th>\n",
              "      <td>Sirnak</td>\n",
              "      <td>18</td>\n",
              "      <td>67</td>\n",
              "      <td>24</td>\n",
              "      <td>36.87</td>\n",
              "      <td>63.13</td>\n",
              "    </tr>\n",
              "    <tr>\n",
              "      <th>29</th>\n",
              "      <td>Igdir</td>\n",
              "      <td>11</td>\n",
              "      <td>65</td>\n",
              "      <td>23</td>\n",
              "      <td>37.57</td>\n",
              "      <td>62.43</td>\n",
              "    </tr>\n",
              "    <tr>\n",
              "      <th>30</th>\n",
              "      <td>Kars</td>\n",
              "      <td>10</td>\n",
              "      <td>70</td>\n",
              "      <td>20</td>\n",
              "      <td>45.60</td>\n",
              "      <td>54.40</td>\n",
              "    </tr>\n",
              "    <tr>\n",
              "      <th>31</th>\n",
              "      <td>Bitlis</td>\n",
              "      <td>10</td>\n",
              "      <td>69</td>\n",
              "      <td>21</td>\n",
              "      <td>31.90</td>\n",
              "      <td>68.10</td>\n",
              "    </tr>\n",
              "    <tr>\n",
              "      <th>32</th>\n",
              "      <td>Ardahan</td>\n",
              "      <td>11</td>\n",
              "      <td>72</td>\n",
              "      <td>17</td>\n",
              "      <td>55.72</td>\n",
              "      <td>44.28</td>\n",
              "    </tr>\n",
              "    <tr>\n",
              "      <th>33</th>\n",
              "      <td>Erzurum</td>\n",
              "      <td>12</td>\n",
              "      <td>69</td>\n",
              "      <td>18</td>\n",
              "      <td>44.48</td>\n",
              "      <td>55.52</td>\n",
              "    </tr>\n",
              "    <tr>\n",
              "      <th>34</th>\n",
              "      <td>Bayburt</td>\n",
              "      <td>13</td>\n",
              "      <td>73</td>\n",
              "      <td>14</td>\n",
              "      <td>43.68</td>\n",
              "      <td>56.32</td>\n",
              "    </tr>\n",
              "    <tr>\n",
              "      <th>35</th>\n",
              "      <td>Kilis</td>\n",
              "      <td>12</td>\n",
              "      <td>71</td>\n",
              "      <td>16</td>\n",
              "      <td>48.98</td>\n",
              "      <td>51.05</td>\n",
              "    </tr>\n",
              "  </tbody>\n",
              "</table>\n",
              "</div>"
            ],
            "text/plain": [
              "        Cities  College_graduate  ...  COVID-19_Vaccination  Unvaccinated\n",
              "0     Istanbul                19  ...                 52.53         47.47\n",
              "1       Ankara                24  ...                 58.98         36.99\n",
              "2        Izmir                19  ...                 61.84         38.16\n",
              "3    Canakkale                16  ...                 69.42         30.58\n",
              "4       Edirne                15  ...                 68.83         31.17\n",
              "5   Kirklareli                15  ...                 68.23         31.77\n",
              "6        Mugla                17  ...                 73.08         26.92\n",
              "7    Balikesir                15  ...                 66.72         33.28\n",
              "8          Van                 9  ...                 38.04         61.96\n",
              "9        Siirt                10  ...                 35.03         64.97\n",
              "10   Sanliurfa                 8  ...                 26.19         73.81\n",
              "11        Agri                 7  ...                 34.61         65.39\n",
              "12  Diyarbakir                11  ...                 32.23         67.77\n",
              "13      Mardin                10  ...                 29.43         70.57\n",
              "14      Bingol                12  ...                 38.01         61.99\n",
              "15      Batman                11  ...                 33.12         66.88\n",
              "16    Tekirdag                15  ...                 60.02         39.98\n",
              "17     Sakarya                13  ...                 50.11         49.88\n",
              "18       Düzce                13  ...                 52.58         47.42\n",
              "19     Bilecik                14  ...                 61.20         38.80\n",
              "20     Kocaeli                16  ...                 51.82         48.18\n",
              "21      Yalova                18  ...                 60.69         39.31\n",
              "22       Bursa                15  ...                 53.50         46.51\n",
              "23      Manisa                13  ...                 57.97         42.03\n",
              "24       Aydin                15  ...                 62.56         37.44\n",
              "25     Denizli                14  ...                 59.10         40.90\n",
              "26         Mus                 8  ...                 31.27         68.73\n",
              "27     Hakkari                10  ...                 51.32         48.67\n",
              "28      Sirnak                18  ...                 36.87         63.13\n",
              "29       Igdir                11  ...                 37.57         62.43\n",
              "30        Kars                10  ...                 45.60         54.40\n",
              "31      Bitlis                10  ...                 31.90         68.10\n",
              "32     Ardahan                11  ...                 55.72         44.28\n",
              "33     Erzurum                12  ...                 44.48         55.52\n",
              "34     Bayburt                13  ...                 43.68         56.32\n",
              "35       Kilis                12  ...                 48.98         51.05\n",
              "\n",
              "[36 rows x 6 columns]"
            ]
          },
          "metadata": {
            "tags": []
          },
          "execution_count": 4
        }
      ]
    },
    {
      "cell_type": "code",
      "metadata": {
        "id": "5b9a4432"
      },
      "source": [
        "#less_than_hs = np.array([data['Less_than_high_school']])\n",
        "less_hs=data['Less_than_high_school']"
      ],
      "id": "5b9a4432",
      "execution_count": 5,
      "outputs": []
    },
    {
      "cell_type": "code",
      "metadata": {
        "id": "ea933570"
      },
      "source": [
        "#vaccination= np.array([data['COVID-19_Vaccination']])\n",
        "vacc= data['COVID-19_Vaccination']"
      ],
      "id": "ea933570",
      "execution_count": 6,
      "outputs": []
    },
    {
      "cell_type": "code",
      "metadata": {
        "id": "Z7sP2ia1IgM5"
      },
      "source": [
        "unvacc=data['Unvaccinated']"
      ],
      "id": "Z7sP2ia1IgM5",
      "execution_count": 12,
      "outputs": []
    },
    {
      "cell_type": "code",
      "metadata": {
        "id": "d08d6622"
      },
      "source": [
        "corr= less_hs.corr(vacc)"
      ],
      "id": "d08d6622",
      "execution_count": 7,
      "outputs": []
    },
    {
      "cell_type": "code",
      "metadata": {
        "id": "rjIdCL5yImwR"
      },
      "source": [
        "corr_unvax= less_hs.corr(unvacc)"
      ],
      "id": "rjIdCL5yImwR",
      "execution_count": 13,
      "outputs": []
    },
    {
      "cell_type": "code",
      "metadata": {
        "id": "c4dea57d",
        "colab": {
          "base_uri": "https://localhost:8080/"
        },
        "outputId": "51a73870-4b62-43dd-cb7b-17b1a1599100"
      },
      "source": [
        "corr"
      ],
      "id": "c4dea57d",
      "execution_count": 8,
      "outputs": [
        {
          "output_type": "execute_result",
          "data": {
            "text/plain": [
              "-0.9190079429525275"
            ]
          },
          "metadata": {
            "tags": []
          },
          "execution_count": 8
        }
      ]
    },
    {
      "cell_type": "code",
      "metadata": {
        "colab": {
          "base_uri": "https://localhost:8080/"
        },
        "id": "e6fZhXnTIs5Z",
        "outputId": "221b3648-1741-4fb5-c1e5-c5274e42ecf8"
      },
      "source": [
        "corr_unvax"
      ],
      "id": "e6fZhXnTIs5Z",
      "execution_count": 14,
      "outputs": [
        {
          "output_type": "execute_result",
          "data": {
            "text/plain": [
              "0.919843774587247"
            ]
          },
          "metadata": {
            "tags": []
          },
          "execution_count": 14
        }
      ]
    },
    {
      "cell_type": "code",
      "metadata": {
        "id": "b5592306",
        "colab": {
          "base_uri": "https://localhost:8080/",
          "height": 296
        },
        "outputId": "7ac33dc7-38a0-42e8-d682-4abb4b65ca2a"
      },
      "source": [
        "X = data['Less_than_high_school'].values\n",
        "Y = data['COVID-19_Vaccination'].values\n",
        "# mean of our inputs and outputs\n",
        "x_mean = np.mean(X)\n",
        "y_mean = np.mean(Y)\n",
        "#total number of values\n",
        "n = len(X)\n",
        "# using the formula to calculate the b1 and b0\n",
        "numerator = 0\n",
        "denominator = 0\n",
        "for i in range(n):\n",
        "    numerator += (X[i] - x_mean) * (Y[i] - y_mean)\n",
        "    denominator += (X[i] - x_mean) ** 2\n",
        "    \n",
        "b1 = numerator / denominator\n",
        "b0 = y_mean - (b1 * x_mean)\n",
        "#printing the coefficient\n",
        "print(b1, b0)\n",
        "#plotting values \n",
        "x_max = np.max(X) + 10\n",
        "x_min = np.min(X) - 10\n",
        "#calculating line values of x and y\n",
        "x = np.linspace(x_min, x_max, 100)\n",
        "y = b0 + b1 * x\n",
        "#plotting line \n",
        "plt.plot(x, y, color='#00ff00', label='Linear Regression')\n",
        "#plot the data point\n",
        "plt.scatter(X, Y, color='#ff0000', label='Data Point')\n",
        "# x-axis label\n",
        "plt.xlabel('Less than high school')\n",
        "#y-axis label\n",
        "plt.ylabel('COVID-19 Vaccination')\n",
        "plt.legend()\n",
        "plt.show()"
      ],
      "id": "b5592306",
      "execution_count": 9,
      "outputs": [
        {
          "output_type": "stream",
          "text": [
            "-1.9751710149702448 82.06962255214876\n"
          ],
          "name": "stdout"
        },
        {
          "output_type": "display_data",
          "data": {
            "image/png": "[encoded data removed]",
            "text/plain": [
              "<Figure size 432x288 with 1 Axes>"
            ]
          },
          "metadata": {
            "tags": [],
            "needs_background": "light"
          }
        }
      ]
    },
    {
      "cell_type": "code",
      "metadata": {
        "colab": {
          "base_uri": "https://localhost:8080/",
          "height": 296
        },
        "id": "eXasnpYYIFP7",
        "outputId": "9d61026c-fd0d-43c9-f27b-1b1070185043"
      },
      "source": [
        "X = data['Less_than_high_school'].values\n",
        "Y = data['Unvaccinated'].values\n",
        "# mean of our inputs and outputs\n",
        "x_mean = np.mean(X)\n",
        "y_mean = np.mean(Y)\n",
        "#total number of values\n",
        "n = len(X)\n",
        "# using the formula to calculate the b1 and b0\n",
        "numerator = 0\n",
        "denominator = 0\n",
        "for i in range(n):\n",
        "    numerator += (X[i] - x_mean) * (Y[i] - y_mean)\n",
        "    denominator += (X[i] - x_mean) ** 2\n",
        "    \n",
        "b1 = numerator / denominator\n",
        "b0 = y_mean - (b1 * x_mean)\n",
        "#printing the coefficient\n",
        "print(b1, b0)\n",
        "#plotting values \n",
        "x_max = np.max(X) + 10\n",
        "x_min = np.min(X) - 10\n",
        "#calculating line values of x and y\n",
        "x = np.linspace(x_min, x_max, 100)\n",
        "y = b0 + b1 * x\n",
        "#plotting line \n",
        "plt.plot(x, y, color='#00ff00', label='Linear Regression')\n",
        "#plot the data point\n",
        "plt.scatter(X, Y, color='#ff0000', label='Data Point')\n",
        "# x-axis label\n",
        "plt.xlabel('Less than high school')\n",
        "#y-axis label\n",
        "plt.ylabel('Unvaccinated')\n",
        "plt.legend()\n",
        "plt.show()"
      ],
      "id": "eXasnpYYIFP7",
      "execution_count": 11,
      "outputs": [
        {
          "output_type": "stream",
          "text": [
            "1.9914972304017466 17.55005951032679\n"
          ],
          "name": "stdout"
        },
        {
          "output_type": "display_data",
          "data": {
            "image/png": "[encoded data removed]",
            "text/plain": [
              "<Figure size 432x288 with 1 Axes>"
            ]
          },
          "metadata": {
            "tags": [],
            "needs_background": "light"
          }
        }
      ]
    },
    {
      "cell_type": "code",
      "metadata": {
        "id": "PQRirGKB2SWN",
        "colab": {
          "base_uri": "https://localhost:8080/",
          "height": 1000
        },
        "outputId": "928a2705-17e4-487c-c239-6814098c87b8"
      },
      "source": [
        "corrmat = data.corr()\n",
        "top_corr_features = corrmat.index\n",
        "plt.figure(figsize=(20,20))\n",
        "#plot heat map\n",
        "g=sns.heatmap(data[top_corr_features].corr(),annot=True,cmap=\"RdYlGn\")"
      ],
      "id": "PQRirGKB2SWN",
      "execution_count": 10,
      "outputs": [
        {
          "output_type": "display_data",
          "data": {
            "image/png": "[encoded data removed]",
            "text/plain": [
              "<Figure size 1440x1440 with 2 Axes>"
            ]
          },
          "metadata": {
            "tags": [],
            "needs_background": "light"
          }
        }
      ]
    }
  ]
}
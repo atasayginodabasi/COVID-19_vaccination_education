{
  "nbformat": 4,
  "nbformat_minor": 5,
  "metadata": {
    "kernelspec": {
      "display_name": "Python 3",
      "language": "python",
      "name": "python3"
    },
    "language_info": {
      "codemirror_mode": {
        "name": "ipython",
        "version": 3
      },
      "file_extension": ".py",
      "mimetype": "text/x-python",
      "name": "python",
      "nbconvert_exporter": "python",
      "pygments_lexer": "ipython3",
      "version": "3.9.5"
    },
    "colab": {
      "name": "covid-19_vaccination.ipynb",
      "provenance": []
    }
  },
  "cells": [
    {
      "cell_type": "code",
      "metadata": {
        "id": "691dc6f2"
      },
      "source": [
        "import numpy as np\n",
        "import matplotlib.pyplot as plt\n",
        "import pandas as pd"
      ],
      "id": "691dc6f2",
      "execution_count": 1,
      "outputs": []
    },
    {
      "cell_type": "code",
      "metadata": {
        "id": "5rghp42B2Hya"
      },
      "source": [
        "import seaborn as sns"
      ],
      "id": "5rghp42B2Hya",
      "execution_count": 2,
      "outputs": []
    },
    {
      "cell_type": "code",
      "metadata": {
        "id": "c14f94e7"
      },
      "source": [
        "data = pd.read_csv(\"https://raw.githubusercontent.com/ayyucedemirbas/COVID-19_vaccination_education/main/covid19_vac_education.csv\")"
      ],
      "id": "c14f94e7",
      "execution_count": 3,
      "outputs": []
    },
    {
      "cell_type": "code",
      "metadata": {
        "id": "3c3ad09e",
        "outputId": "fd6090b7-3280-4391-e476-781281eb7a27",
        "colab": {
          "base_uri": "https://localhost:8080/",
          "height": 545
        }
      },
      "source": [
        "data"
      ],
      "id": "3c3ad09e",
      "execution_count": 4,
      "outputs": [
        {
          "output_type": "execute_result",
          "data": {
            "text/html": [
              "<div>\n",
              "<style scoped>\n",
              "    .dataframe tbody tr th:only-of-type {\n",
              "        vertical-align: middle;\n",
              "    }\n",
              "\n",
              "    .dataframe tbody tr th {\n",
              "        vertical-align: top;\n",
              "    }\n",
              "\n",
              "    .dataframe thead th {\n",
              "        text-align: right;\n",
              "    }\n",
              "</style>\n",
              "<table border=\"1\" class=\"dataframe\">\n",
              "  <thead>\n",
              "    <tr style=\"text-align: right;\">\n",
              "      <th></th>\n",
              "      <th>Cities</th>\n",
              "      <th>College_graduate</th>\n",
              "      <th>High_school_graduate</th>\n",
              "      <th>Less_than_high_school</th>\n",
              "      <th>COVID-19_Vaccination</th>\n",
              "    </tr>\n",
              "  </thead>\n",
              "  <tbody>\n",
              "    <tr>\n",
              "      <th>0</th>\n",
              "      <td>Istanbul</td>\n",
              "      <td>19</td>\n",
              "      <td>69</td>\n",
              "      <td>12</td>\n",
              "      <td>48.24</td>\n",
              "    </tr>\n",
              "    <tr>\n",
              "      <th>1</th>\n",
              "      <td>Ankara</td>\n",
              "      <td>24</td>\n",
              "      <td>66</td>\n",
              "      <td>11</td>\n",
              "      <td>55.03</td>\n",
              "    </tr>\n",
              "    <tr>\n",
              "      <th>2</th>\n",
              "      <td>Izmir</td>\n",
              "      <td>19</td>\n",
              "      <td>70</td>\n",
              "      <td>11</td>\n",
              "      <td>57.68</td>\n",
              "    </tr>\n",
              "    <tr>\n",
              "      <th>3</th>\n",
              "      <td>Canakkale</td>\n",
              "      <td>16</td>\n",
              "      <td>73</td>\n",
              "      <td>9</td>\n",
              "      <td>64.40</td>\n",
              "    </tr>\n",
              "    <tr>\n",
              "      <th>4</th>\n",
              "      <td>Edirne</td>\n",
              "      <td>15</td>\n",
              "      <td>74</td>\n",
              "      <td>10</td>\n",
              "      <td>64.15</td>\n",
              "    </tr>\n",
              "    <tr>\n",
              "      <th>5</th>\n",
              "      <td>Kirklareli</td>\n",
              "      <td>15</td>\n",
              "      <td>77</td>\n",
              "      <td>10</td>\n",
              "      <td>63.96</td>\n",
              "    </tr>\n",
              "    <tr>\n",
              "      <th>6</th>\n",
              "      <td>Mugla</td>\n",
              "      <td>17</td>\n",
              "      <td>71</td>\n",
              "      <td>10</td>\n",
              "      <td>67.82</td>\n",
              "    </tr>\n",
              "    <tr>\n",
              "      <th>7</th>\n",
              "      <td>Balikesir</td>\n",
              "      <td>15</td>\n",
              "      <td>73</td>\n",
              "      <td>11</td>\n",
              "      <td>61.88</td>\n",
              "    </tr>\n",
              "    <tr>\n",
              "      <th>8</th>\n",
              "      <td>Van</td>\n",
              "      <td>9</td>\n",
              "      <td>65</td>\n",
              "      <td>25</td>\n",
              "      <td>32.31</td>\n",
              "    </tr>\n",
              "    <tr>\n",
              "      <th>9</th>\n",
              "      <td>Siirt</td>\n",
              "      <td>10</td>\n",
              "      <td>66</td>\n",
              "      <td>25</td>\n",
              "      <td>24.43</td>\n",
              "    </tr>\n",
              "    <tr>\n",
              "      <th>10</th>\n",
              "      <td>Sanliurfa</td>\n",
              "      <td>8</td>\n",
              "      <td>64</td>\n",
              "      <td>29</td>\n",
              "      <td>20.49</td>\n",
              "    </tr>\n",
              "    <tr>\n",
              "      <th>11</th>\n",
              "      <td>Agri</td>\n",
              "      <td>7</td>\n",
              "      <td>65</td>\n",
              "      <td>28</td>\n",
              "      <td>29.70</td>\n",
              "    </tr>\n",
              "    <tr>\n",
              "      <th>12</th>\n",
              "      <td>Diyarbakir</td>\n",
              "      <td>11</td>\n",
              "      <td>65</td>\n",
              "      <td>24</td>\n",
              "      <td>25.30</td>\n",
              "    </tr>\n",
              "    <tr>\n",
              "      <th>13</th>\n",
              "      <td>Mardin</td>\n",
              "      <td>10</td>\n",
              "      <td>65</td>\n",
              "      <td>24</td>\n",
              "      <td>23.41</td>\n",
              "    </tr>\n",
              "    <tr>\n",
              "      <th>14</th>\n",
              "      <td>Bingol</td>\n",
              "      <td>12</td>\n",
              "      <td>70</td>\n",
              "      <td>20</td>\n",
              "      <td>30.05</td>\n",
              "    </tr>\n",
              "    <tr>\n",
              "      <th>15</th>\n",
              "      <td>Batman</td>\n",
              "      <td>11</td>\n",
              "      <td>69</td>\n",
              "      <td>22</td>\n",
              "      <td>26.34</td>\n",
              "    </tr>\n",
              "  </tbody>\n",
              "</table>\n",
              "</div>"
            ],
            "text/plain": [
              "        Cities  College_graduate  ...  Less_than_high_school  COVID-19_Vaccination\n",
              "0     Istanbul                19  ...                     12                 48.24\n",
              "1       Ankara                24  ...                     11                 55.03\n",
              "2        Izmir                19  ...                     11                 57.68\n",
              "3    Canakkale                16  ...                      9                 64.40\n",
              "4       Edirne                15  ...                     10                 64.15\n",
              "5   Kirklareli                15  ...                     10                 63.96\n",
              "6        Mugla                17  ...                     10                 67.82\n",
              "7    Balikesir                15  ...                     11                 61.88\n",
              "8          Van                 9  ...                     25                 32.31\n",
              "9        Siirt                10  ...                     25                 24.43\n",
              "10   Sanliurfa                 8  ...                     29                 20.49\n",
              "11        Agri                 7  ...                     28                 29.70\n",
              "12  Diyarbakir                11  ...                     24                 25.30\n",
              "13      Mardin                10  ...                     24                 23.41\n",
              "14      Bingol                12  ...                     20                 30.05\n",
              "15      Batman                11  ...                     22                 26.34\n",
              "\n",
              "[16 rows x 5 columns]"
            ]
          },
          "metadata": {
            "tags": []
          },
          "execution_count": 4
        }
      ]
    },
    {
      "cell_type": "code",
      "metadata": {
        "id": "5b9a4432"
      },
      "source": [
        "#less_than_hs = np.array([data['Less_than_high_school']])\n",
        "less_hs=data['Less_than_high_school']"
      ],
      "id": "5b9a4432",
      "execution_count": 5,
      "outputs": []
    },
    {
      "cell_type": "code",
      "metadata": {
        "id": "ea933570"
      },
      "source": [
        "#vaccination= np.array([data['COVID-19_Vaccination']])\n",
        "vacc= data['COVID-19_Vaccination']"
      ],
      "id": "ea933570",
      "execution_count": 6,
      "outputs": []
    },
    {
      "cell_type": "code",
      "metadata": {
        "id": "d08d6622"
      },
      "source": [
        "corr= less_hs.corr(vacc)"
      ],
      "id": "d08d6622",
      "execution_count": 7,
      "outputs": []
    },
    {
      "cell_type": "code",
      "metadata": {
        "id": "c4dea57d",
        "outputId": "1f65b4c8-f32f-4d08-cece-3325616a5f21",
        "colab": {
          "base_uri": "https://localhost:8080/"
        }
      },
      "source": [
        "corr"
      ],
      "id": "c4dea57d",
      "execution_count": 8,
      "outputs": [
        {
          "output_type": "execute_result",
          "data": {
            "text/plain": [
              "-0.9525832343119646"
            ]
          },
          "metadata": {
            "tags": []
          },
          "execution_count": 8
        }
      ]
    },
    {
      "cell_type": "code",
      "metadata": {
        "id": "b5592306",
        "outputId": "ef2e6161-233e-42cb-fcff-78feca5afca3",
        "colab": {
          "base_uri": "https://localhost:8080/",
          "height": 296
        }
      },
      "source": [
        "X = data['Less_than_high_school'].values\n",
        "Y = data['COVID-19_Vaccination'].values\n",
        "# mean of our inputs and outputs\n",
        "x_mean = np.mean(X)\n",
        "y_mean = np.mean(Y)\n",
        "#total number of values\n",
        "n = len(X)\n",
        "# using the formula to calculate the b1 and b0\n",
        "numerator = 0\n",
        "denominator = 0\n",
        "for i in range(n):\n",
        "    numerator += (X[i] - x_mean) * (Y[i] - y_mean)\n",
        "    denominator += (X[i] - x_mean) ** 2\n",
        "    \n",
        "b1 = numerator / denominator\n",
        "b0 = y_mean - (b1 * x_mean)\n",
        "#printing the coefficient\n",
        "print(b1, b0)\n",
        "#plotting values \n",
        "x_max = np.max(X) + 10\n",
        "x_min = np.min(X) - 10\n",
        "#calculating line values of x and y\n",
        "x = np.linspace(x_min, x_max, 100)\n",
        "y = b0 + b1 * x\n",
        "#plotting line \n",
        "plt.plot(x, y, color='#00ff00', label='Linear Regression')\n",
        "#plot the data point\n",
        "plt.scatter(X, Y, color='#ff0000', label='Data Point')\n",
        "# x-axis label\n",
        "plt.xlabel('Less than high school')\n",
        "#y-axis label\n",
        "plt.ylabel('COVID-19 Vaccination')\n",
        "plt.legend()\n",
        "plt.show()"
      ],
      "id": "b5592306",
      "execution_count": 9,
      "outputs": [
        {
          "output_type": "stream",
          "text": [
            "-2.288561817261087 83.64224191564784\n"
          ],
          "name": "stdout"
        },
        {
          "output_type": "display_data",
          "data": {
            "image/png": "[encoded data removed]",
            "text/plain": [
              "<Figure size 432x288 with 1 Axes>"
            ]
          },
          "metadata": {
            "tags": [],
            "needs_background": "light"
          }
        }
      ]
    },
    {
      "cell_type": "code",
      "metadata": {
        "id": "PQRirGKB2SWN",
        "outputId": "11056fbb-727a-463b-a460-d7d38b432114",
        "colab": {
          "base_uri": "https://localhost:8080/",
          "height": 1000
        }
      },
      "source": [
        "corrmat = data.corr()\n",
        "top_corr_features = corrmat.index\n",
        "plt.figure(figsize=(20,20))\n",
        "#plot heat map\n",
        "g=sns.heatmap(data[top_corr_features].corr(),annot=True,cmap=\"RdYlGn\")"
      ],
      "id": "PQRirGKB2SWN",
      "execution_count": 10,
      "outputs": [
        {
          "output_type": "display_data",
          "data": {
            "image/png": "[encoded data removed]",
            "text/plain": [
              "<Figure size 1440x1440 with 2 Axes>"
            ]
          },
          "metadata": {
            "tags": [],
            "needs_background": "light"
          }
        }
      ]
    }
  ]
}